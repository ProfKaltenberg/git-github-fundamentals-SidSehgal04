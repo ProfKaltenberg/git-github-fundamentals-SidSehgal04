{
 "cells": [
  {
   "cell_type": "markdown",
   "id": "c9971c7e",
   "metadata": {},
   "source": [
    "# *Siddharth Sehgal*\n",
    "- 🎓 MS in Applied Quantitative Economics|MS in Finance\n",
    "- 💻  I'm currently learning Python\n",
    "\n",
    "**My Hobbies \n",
    "- Listening to music 🎵 \n",
    "- Watching movies 🎥 \n",
    "- Basketball 🏀\n"
   ]
  },
  {
   "cell_type": "code",
   "execution_count": null,
   "id": "9f2f4f54",
   "metadata": {},
   "outputs": [],
   "source": []
  }
 ],
 "metadata": {
  "kernelspec": {
   "display_name": "Python 3 (ipykernel)",
   "language": "python",
   "name": "python3"
  },
  "language_info": {
   "codemirror_mode": {
    "name": "ipython",
    "version": 3
   },
   "file_extension": ".py",
   "mimetype": "text/x-python",
   "name": "python",
   "nbconvert_exporter": "python",
   "pygments_lexer": "ipython3",
   "version": "3.9.13"
  }
 },
 "nbformat": 4,
 "nbformat_minor": 5
}
