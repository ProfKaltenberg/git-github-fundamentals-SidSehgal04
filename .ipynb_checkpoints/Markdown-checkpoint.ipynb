{
 "cells": [
  {
   "cell_type": "markdown",
   "id": "e0494ce9",
   "metadata": {},
   "source": [
    "# Markdown Assignment\n",
    "###  By: *Siddharth*\n",
    "![hi](https://media.giphy.com/media/MPxg9U887PS0B8XT4J/giphy.gif)\n",
    "\n",
    "**What I Have Learned** \n",
    "1. The basic fundamental of Git and GitHub\n",
    "2. How to create a Repository\n",
    "3. Cloning repository\n",
    "4. Creating a Pull and push request\n",
    "\n",
    "\n",
    "**What I still need to learn** **😕**\n",
    "1. Forks\n",
    "2. Issues\n",
    "\n",
    "![](download.jpeg)\n"
   ]
  },
  {
   "cell_type": "code",
   "execution_count": null,
   "id": "f1f4d940",
   "metadata": {},
   "outputs": [],
   "source": []
  }
 ],
 "metadata": {
  "kernelspec": {
   "display_name": "Python 3 (ipykernel)",
   "language": "python",
   "name": "python3"
  },
  "language_info": {
   "codemirror_mode": {
    "name": "ipython",
    "version": 3
   },
   "file_extension": ".py",
   "mimetype": "text/x-python",
   "name": "python",
   "nbconvert_exporter": "python",
   "pygments_lexer": "ipython3",
   "version": "3.9.13"
  }
 },
 "nbformat": 4,
 "nbformat_minor": 5
}
